{
 "cells": [
  {
   "cell_type": "markdown",
   "metadata": {},
   "source": [
    "## **List Comprehensions**"
   ]
  },
  {
   "cell_type": "markdown",
   "metadata": {},
   "source": [
    "basic_structure = [expression for item in iterable]"
   ]
  },
  {
   "cell_type": "markdown",
   "metadata": {},
   "source": [
    "-expression is the operation you want to perform on each item.\\\n",
    "-item is each element in the iterable.\\\n",
    "-iterable is the collection you're looping through (e.g., a list or range)."
   ]
  },
  {
   "cell_type": "markdown",
   "metadata": {},
   "source": []
  },
  {
   "cell_type": "code",
   "execution_count": 5,
   "metadata": {},
   "outputs": [
    {
     "data": {
      "text/plain": [
       "[0, 1, 4, 9, 16, 25]"
      ]
     },
     "execution_count": 5,
     "metadata": {},
     "output_type": "execute_result"
    }
   ],
   "source": [
    "#creating list of squares from 1-5\n",
    "squares=[x**2 for x in range(6)]\n",
    "squares"
   ]
  },
  {
   "cell_type": "code",
   "execution_count": 6,
   "metadata": {},
   "outputs": [
    {
     "name": "stdout",
     "output_type": "stream",
     "text": [
      "['APPLE', 'BANANA', 'CHERRY']\n"
     ]
    }
   ],
   "source": [
    "#convert each string in a list to uppercase\n",
    "words = [\"apple\", \"banana\", \"cherry\"]\n",
    "upper_words = [word.upper() for word in words]\n",
    "print(upper_words)"
   ]
  },
  {
   "cell_type": "code",
   "execution_count": null,
   "metadata": {},
   "outputs": [],
   "source": [
    "#list of squares for only even numbers from 1 to 10\n",
    "even_squares = [x**2 for x in range(1, 11) if x % 2 == 0]\n",
    "print(even_squares)"
   ]
  },
  {
   "cell_type": "code",
   "execution_count": null,
   "metadata": {},
   "outputs": [],
   "source": [
    "#filter words that have more than 5 letters\n",
    "words = [\"apple\", \"banana\", \"cherry\", \"blueberry\"]\n",
    "long_words = [word for word in words if len(word) > 5]\n",
    "print(long_words) \n"
   ]
  },
  {
   "cell_type": "markdown",
   "metadata": {},
   "source": [
    "### **When to Use a Set Comprehension:**\n",
    "#### Simple Filtering or Transformation:\n",
    "\n",
    "#Use a set comprehension when you need to filter or transform elements from an iterable (e.g., a list, set, or tuple) into a new set.\n",
    "\n",
    "**Example:**\n",
    "\n",
    "```python\n",
    "numbers = [1, 2, 3, 4, 5]\n",
    "even_numbers = {x for x in numbers if x % 2 == 0}\n",
    "```\n",
    "\n",
    "^^ This is concise and easy to read for simple tasks.\n",
    "\n",
    "### **Creating a Set from Scratch:**\n",
    "\n",
    "#Use a set comprehension when you want to create a new set from an iterable in a single line.\n",
    "\n",
    "**Example**:\n",
    "\n",
    "\n",
    "```python\n",
    "words = [\"apple\", \"banana\", \"cherry\"]\n",
    "unique_lengths = {len(word) for word in words}\n",
    "```\n",
    "\n",
    "### **Avoiding Explicit Loops:**\n",
    "\n",
    "Use a set comprehension when you want to avoid writing an explicit for loop for better readability and conciseness.\n",
    "\n",
    "**Example**:\n",
    "\n",
    "\n",
    "```python\n",
    "q19 = {(\"red\", \"small\"), (\"blue\", \"medium\"), (\"green\", \"large\")}\n",
    "p19 = {t for t in q19 if t[0] == \"red\" or t[1] == \"medium\"}\n",
    "```"
   ]
  },
  {
   "cell_type": "markdown",
   "metadata": {},
   "source": [
    "### **When to Use a For Loop:**\n",
    "\n",
    "#### **Complex Logic:**\n",
    "\n",
    "Use a for loop when the logic inside the loop is complex and involves multiple steps or conditions.\n",
    "\n",
    "#### **Example:**\n",
    "\n",
    "\n",
    "```python\n",
    "q19 = {(\"red\", \"small\"), (\"blue\", \"medium\"), (\"green\", \"large\")}\n",
    "p19 = set()\n",
    "for t in q19:\n",
    "    if t[0] == \"red\" or t[1] == \"medium\":\n",
    "        p19.add(t)\n",
    "```\n",
    "\n",
    "\n",
    "#### **Side Effects:**\n",
    "\n",
    "Use a for loop when you need to perform side effects (e.g., printing, modifying external variables, or calling functions) while iterating.\n",
    "\n",
    "**Example:**\n",
    "\n",
    "\n",
    "```python\n",
    "for t in q19:\n",
    "    if t[0] == \"red\":\n",
    "        print(f\"Found a red item: {t}\")\n",
    "```\n",
    "\n",
    "#### **Readability:**\n",
    "\n",
    "Use a for loop when the logic is easier to understand when written explicitly, especially for beginners or in team settings where readability is a priority.\n",
    "\n",
    "Performance Considerations:\n",
    "\n",
    "In some cases, a for loop might be more efficient if you need to break out of the loop early (e.g., using break or return).\n",
    "\n",
    "| Feature       | Set Comprehension                          | For Loop                                      |\n",
    "|---------------|--------------------------------------------|-----------------------------------------------|\n",
    "| Readability   | Concise and elegant for simple tasks       | More explicit, better for complex logic       |\n",
    "| Side Effects  | Not suitable for side effects              | Suitable for side effects                     |\n",
    "| Performance   | Generally fast for small to medium tasks   | Can be optimized for specific cases           |\n",
    "| Use Case      | Creating new sets from iterables           | Iterating with complex logic or side effects  |\n",
    "\n",
    "#### **Example Comparison:**\n",
    "\n",
    "##### **Set Comprehension:**\n",
    "\n",
    "```python\n",
    "q19 = {(\"red\", \"small\"), (\"blue\", \"medium\"), (\"green\", \"large\")}\n",
    "p19 = {t for t in q19 if t[0] == \"red\" or t[1] == \"medium\"}\n",
    "```\n",
    "##### **For Loop:**\n",
    "\n",
    "```python\n",
    "q19 = {(\"red\", \"small\"), (\"blue\", \"medium\"), (\"green\", \"large\")}\n",
    "p19 = set()\n",
    "for t in q19:\n",
    "    if t[0] == \"red\" or t[1] == \"medium\":\n",
    "        p19.add(t)\n",
    "```\n",
    "\n",
    "\n",
    "When to Choose Which:\n",
    "Use set comprehension if:\n",
    "\n",
    "1. The task is simple (e.g., filtering or transforming elements).\n",
    "\n",
    "2. You want concise, readable code.\n",
    "\n",
    "3. You don’t need side effects.\n",
    "\n",
    "Use a for loop if:\n",
    "\n",
    "1. The logic is complex or involves multiple steps.\n",
    "\n",
    "2. You need side effects (e.g., printing, modifying external variables).\n",
    "\n",
    "3. You want to break out of the loop early or handle exceptions.\n",
    "\n",
    "**Rule of Thumb:**\n",
    "1. If you can express the task in a single line without sacrificing readability, use a set comprehension.\n",
    "\n",
    "2. If the task requires more logic or side effects, use a for loop."
   ]
  },
  {
   "cell_type": "markdown",
   "metadata": {},
   "source": []
  },
  {
   "cell_type": "code",
   "execution_count": 1,
   "metadata": {},
   "outputs": [],
   "source": [
    "#basic_structure = [expression for item in iterable]\n"
   ]
  },
  {
   "cell_type": "code",
   "execution_count": 7,
   "metadata": {},
   "outputs": [
    {
     "name": "stdout",
     "output_type": "stream",
     "text": [
      "0 1 4\n",
      "1 2 5\n",
      "2 3 6\n"
     ]
    }
   ],
   "source": [
    "a=[1,2,3]\n",
    "b=[4,5,6]\n",
    "for i, (av, bv) in enumerate(zip(a,b)):\n",
    "    print(i, av, bv)"
   ]
  },
  {
   "cell_type": "code",
   "execution_count": 8,
   "metadata": {},
   "outputs": [
    {
     "name": "stdout",
     "output_type": "stream",
     "text": [
      "0 1\n",
      "1 2\n",
      "2 3\n"
     ]
    }
   ],
   "source": [
    "l=[1,2,3]\n",
    "for i, x in enumerate(l):\n",
    "    print(i, x)"
   ]
  },
  {
   "cell_type": "code",
   "execution_count": null,
   "metadata": {},
   "outputs": [],
   "source": []
  }
 ],
 "metadata": {
  "kernelspec": {
   "display_name": "Python 3",
   "language": "python",
   "name": "python3"
  },
  "language_info": {
   "codemirror_mode": {
    "name": "ipython",
    "version": 3
   },
   "file_extension": ".py",
   "mimetype": "text/x-python",
   "name": "python",
   "nbconvert_exporter": "python",
   "pygments_lexer": "ipython3",
   "version": "3.12.1"
  }
 },
 "nbformat": 4,
 "nbformat_minor": 2
}
