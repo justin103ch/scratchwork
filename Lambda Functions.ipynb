{
 "cells": [
  {
   "cell_type": "markdown",
   "metadata": {},
   "source": [
    "# ** Lambda Functions **"
   ]
  },
  {
   "cell_type": "code",
   "execution_count": 3,
   "metadata": {},
   "outputs": [
    {
     "name": "stdout",
     "output_type": "stream",
     "text": [
      "['Bob', 'David', 'Alice', 'Charlie']\n"
     ]
    }
   ],
   "source": [
    "names = [\"Alice\", \"Bob\", \"Charlie\", \"David\"]\n",
    "sorted_names = sorted(names, key=lambda name: name[-1])\n",
    "print(sorted_names)"
   ]
  },
  {
   "cell_type": "code",
   "execution_count": 4,
   "metadata": {},
   "outputs": [
    {
     "name": "stdout",
     "output_type": "stream",
     "text": [
      "['apple', 'banana', 'cherry', 'blueberry']\n"
     ]
    }
   ],
   "source": [
    "words = [\"apple\", \"banana\", \"cherry\", \"blueberry\"]\n",
    "sorted_words = sorted(words, key=lambda word: len(word))\n",
    "print(sorted_words)"
   ]
  },
  {
   "cell_type": "code",
   "execution_count": 5,
   "metadata": {},
   "outputs": [
    {
     "name": "stdout",
     "output_type": "stream",
     "text": [
      "[('Charlie', 20), ('Alice', 25), ('Bob', 30)]\n"
     ]
    }
   ],
   "source": [
    "people = [(\"Alice\", 25), (\"Bob\", 30), (\"Charlie\", 20)]\n",
    "sorted_people = sorted(people, key=lambda person: person[1])\n",
    "print(sorted_people)"
   ]
  },
  {
   "cell_type": "code",
   "execution_count": 8,
   "metadata": {},
   "outputs": [
    {
     "name": "stdout",
     "output_type": "stream",
     "text": [
      "<function <lambda> at 0x7aed886185e0>\n"
     ]
    }
   ],
   "source": [
    "words = [\"apple\", \"banana\", \"cherry\", \"blueberry\"]\n",
    "\n",
    "# Function to count vowels in a word\n",
    "vowel_count = lambda word: sum(1 for char in word if char in \"aeiou\")\n",
    "\n",
    "most_vowels(words, key=vowel_count)\n",
    "print(most_vowels)"
   ]
  },
  {
   "cell_type": "code",
   "execution_count": 10,
   "metadata": {},
   "outputs": [
    {
     "name": "stdout",
     "output_type": "stream",
     "text": [
      "['cherry', 'apple', 'banana', 'blueberry']\n"
     ]
    }
   ],
   "source": [
    "words = [\"apple\", \"banana\", \"cherry\", \"blueberry\"]\n",
    "\n",
    "# Function to count vowels in a word\n",
    "vowel_count = lambda word: sum(1 for char in word if char in \"aeiou\")\n",
    "\n",
    "# Sort words by vowel count (least to most)\n",
    "sorted_words = sorted(words, key=vowel_count)\n",
    "\n",
    "print(sorted_words)\n"
   ]
  },
  {
   "cell_type": "code",
   "execution_count": 7,
   "metadata": {},
   "outputs": [
    {
     "name": "stdout",
     "output_type": "stream",
     "text": [
      "Bob\n"
     ]
    }
   ],
   "source": [
    "grades = {\"Alice\": 85, \"Bob\": 92, \"Charlie\": 88}\n",
    "top_student = max(grades, key=lambda student: grades[student])\n",
    "print(top_student)"
   ]
  },
  {
   "cell_type": "code",
   "execution_count": null,
   "metadata": {},
   "outputs": [],
   "source": []
  }
 ],
 "metadata": {
  "kernelspec": {
   "display_name": "Python 3",
   "language": "python",
   "name": "python3"
  },
  "language_info": {
   "codemirror_mode": {
    "name": "ipython",
    "version": 3
   },
   "file_extension": ".py",
   "mimetype": "text/x-python",
   "name": "python",
   "nbconvert_exporter": "python",
   "pygments_lexer": "ipython3",
   "version": "3.12.1"
  }
 },
 "nbformat": 4,
 "nbformat_minor": 2
}
